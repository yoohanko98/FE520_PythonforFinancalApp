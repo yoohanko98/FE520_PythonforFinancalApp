{
 "cells": [
  {
   "cell_type": "markdown",
   "metadata": {},
   "source": [
    "# FE-520 Assignment 1\n",
    "#### Stevens Institute of Technology\n",
    "### Author: Yoohan Ko\n",
    "### \"I pledge my honor I have abided by the Stevens Honor System\""
   ]
  },
  {
   "cell_type": "markdown",
   "metadata": {},
   "source": [
    "### 1. Print (10pts)\n",
    "    - Define a string variable, and print it. \n",
    "    - Define a string (I’m a student), print it.\n",
    "    - Define a string: (How do you think of this course? Describe your feeling of this course) print it in multiple line."
   ]
  },
  {
   "cell_type": "code",
   "execution_count": 46,
   "metadata": {},
   "outputs": [
    {
     "name": "stdout",
     "output_type": "stream",
     "text": [
      "Hello World\n",
      "\n",
      "I'm a student\n",
      "\n",
      "I think that this course serves as a good \n",
      "introduction to Python. I am excited to learn about\n",
      "the advantages of Python over other coding languages.\n"
     ]
    }
   ],
   "source": [
    "#define a string variable\n",
    "string1 = \"Hello World\"\n",
    "print(string1 + \"\\n\")\n",
    "\n",
    "#define string \"I'm a student\"\n",
    "string2 =\"I'm a student\"\n",
    "print(string2 + \"\\n\")\n",
    "\n",
    "#define multiple line string\n",
    "string3 = \\\n",
    "'''I think that this course serves as a good \n",
    "introduction to Python. I am excited to learn about\n",
    "the advantages of Python over other coding languages.'''\n",
    "print(string3)"
   ]
  },
  {
   "cell_type": "markdown",
   "metadata": {},
   "source": [
    "### 2. Operator (15pts)\n",
    "    - Define a = 100, b = 9, calculate following problems,\n",
    "    - c=a+b, print c out.\n",
    "    - print the quotient of a/b.\n",
    "    - print the integer part of a/b.\n",
    "    - print the remainder part of a/b\n",
    "    - print the result of ’a’ to the power of b.\n",
    "    - Using logic operator to return a Boolean value for a unequal to b.\n",
    "    - Using logic operator to return a Boolean value for a greater than b."
   ]
  },
  {
   "cell_type": "code",
   "execution_count": 47,
   "metadata": {},
   "outputs": [
    {
     "name": "stdout",
     "output_type": "stream",
     "text": [
      "109\n",
      "11.11111111111111\n",
      "11\n",
      "1\n",
      "1000000000000000000\n",
      "True\n",
      "True\n"
     ]
    },
    {
     "data": {
      "text/plain": [
       "True"
      ]
     },
     "execution_count": 47,
     "metadata": {},
     "output_type": "execute_result"
    }
   ],
   "source": [
    "#defining variables\n",
    "a = 100\n",
    "b = 9\n",
    "\n",
    "#store the sum of a and b in a new variable c, then print out c\n",
    "c = a + b\n",
    "print(c)\n",
    "\n",
    "#calculate float division of a divided by b\n",
    "quotient = a / b\n",
    "print(quotient)\n",
    "\n",
    "#calculate integer division a divided by b\n",
    "integerdivide = a // b\n",
    "print(integerdivide)\n",
    "\n",
    "#calculate a modulo b\n",
    "remainder = a % b\n",
    "print(remainder)\n",
    "\n",
    "#print the result of a to the power of b\n",
    "power = a ** b\n",
    "print(power)\n",
    "\n",
    "#check if a is not equal to b\n",
    "print(a != b) #print statement\n",
    "a != b #boolean value\n",
    "\n",
    "#check to see if a is greater than b\n",
    "print(a > b) #print statement\n",
    "a > b #boolean value"
   ]
  },
  {
   "cell_type": "markdown",
   "metadata": {},
   "source": [
    "### 3. List Practice (30pts)\n",
    "    - Define a list Name it List A), whose items should include integer, float, and string. Please notice the length of the list should be greater than 5.\n",
    "    - Using extend and append to add another list(Name it List B) to List A. \n",
    "    - Insert a string (’FE520’) to the second place of List A, and delete it after that. \n",
    "    - Return and delete the last element in the List A, and print the new list. \n",
    "    - Return a new list (Name is List C), slicing the List A from 3rd to the end. \n",
    "    - Double size your List C.\n",
    "    - Reverse your sequence of List C."
   ]
  },
  {
   "cell_type": "code",
   "execution_count": 45,
   "metadata": {},
   "outputs": [
    {
     "name": "stdout",
     "output_type": "stream",
     "text": [
      "[15, 16, 16.4, 'a string', 'some more text', 'a string from List_B', 164, 182.3]\n",
      "[15, 'FE520', 16, 16.4, 'a string', 'some more text', 'a string from List_B', 164, 182.3]\n",
      "[15, 16, 16.4, 'a string', 'some more text', 'a string from List_B', 164, 182.3]\n",
      "[15, 16, 16.4, 'a string', 'some more text', 'a string from List_B', 164]\n",
      "[16.4, 'a string', 'some more text', 'a string from List_B', 164]\n",
      "[16.4, 'a string', 'some more text', 'a string from List_B', 164, 16.4, 'a string', 'some more text', 'a string from List_B', 164]\n",
      "[164, 'a string from List_B', 'some more text', 'a string', 16.4, 164, 'a string from List_B', 'some more text', 'a string', 16.4]\n"
     ]
    }
   ],
   "source": [
    "#define List_A, including an integer, float, and string\n",
    "List_A = [15, 16, 16.4, \"a string\", \"some more text\"]\n",
    "\n",
    "#define List_B\n",
    "List_B = [\"a string from List_B\", 164,182.3]\n",
    "\n",
    "#extend or append List_A with List_B\n",
    "List_A.extend(List_B)\n",
    "print(List_A)\n",
    "\n",
    "#insert string to second place in List_A (This would be list index 1)\n",
    "List_A.insert(1, \"FE520\")\n",
    "print(List_A)\n",
    "\n",
    "#removing this string from the list\n",
    "List_A.remove(\"FE520\")\n",
    "print(List_A)\n",
    "\n",
    "#return and delete the last element in List_A\n",
    "List_A.pop()\n",
    "print(List_A)\n",
    "\n",
    "#return a ListC that slices List_A from 3rd to the end\n",
    "List_C = List_A[2:]\n",
    "print(List_C)\n",
    "\n",
    "#double the size of List_C\n",
    "List_C.extend(List_C)\n",
    "print(List_C)\n",
    "\n",
    "#reverse the sequence of List_C\n",
    "List_C_negative = List_C[::-1]\n",
    "print(List_C_negative)"
   ]
  },
  {
   "cell_type": "markdown",
   "metadata": {},
   "source": [
    "### 4. Practice Dictionary (15 pts)\n",
    "    - Define a dictionary with 3 item (Name is Dict_A).\n",
    "    - Define another dictionary equal to Dict A, change the item value in new dictionary, but not hurt Dict A."
   ]
  },
  {
   "cell_type": "code",
   "execution_count": 5,
   "metadata": {},
   "outputs": [
    {
     "name": "stdout",
     "output_type": "stream",
     "text": [
      "0x106989948\n",
      "0x1069891f8\n"
     ]
    }
   ],
   "source": [
    "#Defining a dictionary with 3 items\n",
    "Dict_A = dict([('itemA', 100), ('itemB', 200), ('itemC', 300)])\n",
    "print(hex(id(Dict_A)))\n",
    "\n",
    "#Making a copy of Dict_A, not a reference to Dict_A\n",
    "Dict_B = dict(Dict_A)\n",
    "print(hex(id(Dict_B)))\n"
   ]
  },
  {
   "cell_type": "markdown",
   "metadata": {},
   "source": [
    "### 5. Loop Condition Practice(30 pts)\n",
    "   Consider a sequenced list (or inversed sequence list, you need to consider an inversed sequence situation) and an inserted number. Define a function with two arguments, one is the sequenced list, another one is the inserted number. Please insert the number in the list with right place and output the new list. (Hint: you need to consider the special situation that the inserted number is smaller or greater than all numbers) \n",
    "Example:\n",
    "    \n",
    "    Input:\n",
    "        List = [1, 2 , 4 , 9 , 17 , 25 , 63 ]\n",
    "        InsertNum = 13\n",
    "    Output:\n",
    "        NewList = [1, 2 , 4 , 9 , 13 , 17 , 25 , 63 ]"
   ]
  },
  {
   "cell_type": "code",
   "execution_count": 44,
   "metadata": {},
   "outputs": [
    {
     "name": "stdout",
     "output_type": "stream",
     "text": [
      "list is a normal sequence\n",
      "[1, 2, 4, 9, 13, 17, 25, 63]\n",
      "list is a normal sequence\n",
      "[0, 1, 2, 4, 9, 17, 25, 63]\n",
      "list is a normal sequence\n",
      "[1, 2, 4, 9, 17, 25, 63, 100]\n",
      "list is a inversed sequence\n",
      "[63, 25, 17, 13, 9, 3, 2, 1]\n",
      "list is a inversed sequence\n",
      "[63, 25, 17, 9, 3, 2, 1, 0]\n",
      "list is a inversed sequence\n",
      "[100, 63, 25, 17, 9, 3, 2, 1]\n"
     ]
    }
   ],
   "source": [
    "# defining the insert function\n",
    "def insert_list(list_prev, number):\n",
    "    index = 0\n",
    "    \n",
    "    # first, check whether the list is normal or inverted\n",
    "    if(list_prev[0] < list_prev[1]):\n",
    "        print(\"list is a normal sequence\")\n",
    "        # iterate over the list using the length of the list\n",
    "        for x in range(len(list_prev)):\n",
    "            # print(list_prev[x])\n",
    "            # figure out the index of the list item before which to insert number\n",
    "            if list_prev[x] < number:\n",
    "                index = x + 1\n",
    "                # print(\"up to index: \" + str(index))\n",
    "    else:\n",
    "        # logic is reversed for inverted lists\n",
    "        print(\"list is a inversed sequence\")\n",
    "        for x in range(len(list_prev)):\n",
    "            # print(list_prev[x])\n",
    "            if list_prev[x] > number:\n",
    "                index = x + 1\n",
    "                # print(\"up to index: \" + str(index))\n",
    "            \n",
    "    list_new = list_prev.copy()\n",
    "    list_new.insert(index, number)\n",
    "    print(list_new)\n",
    "    \n",
    "\n",
    "# list going in positive sequence\n",
    "List1 = [1, 2 , 4 , 9 , 17 , 25 , 63]\n",
    "# default test case\n",
    "insert_list(List1, 13)\n",
    "# testing use case: at the very front of the list \n",
    "insert_list(List1, 0)\n",
    "# testing use case: at the very rear of the list\n",
    "insert_list(List1, 100)\n",
    "\n",
    "# list going in negative sequence\n",
    "List2 = [63, 25, 17, 9, 3, 2, 1]\n",
    "# default test case\n",
    "insert_list(List2, 13)\n",
    "# testing use case: at the very last of the list \n",
    "insert_list(List2, 0)\n",
    "# testing use case: at the very front of the list\n",
    "insert_list(List2, 100)\n",
    "\n",
    "        \n",
    "    "
   ]
  }
 ],
 "metadata": {
  "kernelspec": {
   "display_name": "Python 3",
   "language": "python",
   "name": "python3"
  },
  "language_info": {
   "codemirror_mode": {
    "name": "ipython",
    "version": 3
   },
   "file_extension": ".py",
   "mimetype": "text/x-python",
   "name": "python",
   "nbconvert_exporter": "python",
   "pygments_lexer": "ipython3",
   "version": "3.7.3"
  }
 },
 "nbformat": 4,
 "nbformat_minor": 2
}
