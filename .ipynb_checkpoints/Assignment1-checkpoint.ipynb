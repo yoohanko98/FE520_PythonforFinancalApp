{
 "cells": [
  {
   "cell_type": "markdown",
   "metadata": {},
   "source": [
    "# FE-520 Assignment 1\n",
    "#### Stevens Institute of Technology\n",
    "### Author: Yoohan Ko\n",
    "### \"I pledge my honor I have abided by the Stevens Honor System\""
   ]
  },
  {
   "cell_type": "markdown",
   "metadata": {},
   "source": [
    "### 1. Print (10pts)\n",
    "    - Define a string variable, and print it. \n",
    "    - Define a string (I’m a student), print it.\n",
    "    - Define a string: (How do you think of this course? Describe your feeling of this course) print it in multiple line."
   ]
  },
  {
   "cell_type": "code",
   "execution_count": 15,
   "metadata": {},
   "outputs": [
    {
     "name": "stdout",
     "output_type": "stream",
     "text": [
      "Hello World\n",
      "\n",
      "I'm a student\n",
      "\n",
      "I think that this course serves as a good \n",
      "introduction to Python. I am excited to learn about\n",
      "the advantages of Python over other coding languages.\n"
     ]
    }
   ],
   "source": [
    "#define a string variable\n",
    "string1 = \"Hello World\"\n",
    "print(string1 + \"\\n\")\n",
    "\n",
    "#define string \"I'm a student\"\n",
    "string2 =\"I'm a student\"\n",
    "print(string2 + \"\\n\")\n",
    "\n",
    "#define multiple line string\n",
    "string3 = \\\n",
    "'''I think that this course serves as a good \n",
    "introduction to Python. I am excited to learn about\n",
    "the advantages of Python over other coding languages.'''\n",
    "print(string3)"
   ]
  },
  {
   "cell_type": "markdown",
   "metadata": {},
   "source": [
    "### 2. Operator (15pts)\n",
    "    - Define a = 100, b = 9, calculate following problems,\n",
    "    - c=a+b, print c out.\n",
    "    - print the quotient of a/b.\n",
    "    - print the integer part of a/b.\n",
    "    - print the remainder part of a/b\n",
    "    - print the result of ’a’ to the power of b.\n",
    "    - Using logic operator to return a Boolean value for a unequal to b.\n",
    "    - Using logic operator to return a Boolean value for a greater than b."
   ]
  },
  {
   "cell_type": "code",
   "execution_count": 36,
   "metadata": {},
   "outputs": [
    {
     "name": "stdout",
     "output_type": "stream",
     "text": [
      "109\n",
      "11.11111111111111\n",
      "11\n",
      "1\n",
      "1000000000000000000\n",
      "True\n",
      "True\n"
     ]
    },
    {
     "data": {
      "text/plain": [
       "True"
      ]
     },
     "execution_count": 36,
     "metadata": {},
     "output_type": "execute_result"
    }
   ],
   "source": [
    "#defining variables\n",
    "a = 100\n",
    "b = 9\n",
    "\n",
    "#store the sum of a and b in a new variable c, then print out c\n",
    "c = a + b\n",
    "print(c)\n",
    "\n",
    "#calculate float division of a divided by b\n",
    "quotient = a / b\n",
    "print(quotient)\n",
    "\n",
    "#calculate integer division a divided by b\n",
    "integerdivide = a // b\n",
    "print(integerdivide)\n",
    "\n",
    "#calculate a modulo b\n",
    "remainder = a % b\n",
    "print(remainder)\n",
    "\n",
    "#print the result of a to the power of b\n",
    "power = a ** b\n",
    "print(power)\n",
    "\n",
    "#check if a is not equal to b\n",
    "print(a != b) #print statement\n",
    "a != b #boolean value\n",
    "\n",
    "#check to see if a is greater than b\n",
    "print(a > b) #print statement\n",
    "a > b #boolean value"
   ]
  },
  {
   "cell_type": "markdown",
   "metadata": {},
   "source": [
    "### 3. List Practice (30pts)\n",
    "    - Define a list Name it List A), whose items should include integer, float, and string. Please notice the length of the list should be greater than 5.\n",
    "    - Using extend and append to add another list(Name it List B) to List A. \n",
    "    - Insert a string (’FE520’) to the second place of List A, and delete it after that. \n",
    "    - Return and delete the last element in the List A, and print the new list. \n",
    "    - Return a new list (Name is List C), slicing the List A from 3rd to the end. \n",
    "    - Double size your List C.\n",
    "    - Reverse your sequence of List C."
   ]
  },
  {
   "cell_type": "code",
   "execution_count": null,
   "metadata": {},
   "outputs": [],
   "source": []
  },
  {
   "cell_type": "markdown",
   "metadata": {},
   "source": [
    "### 4. Practice Dictionary (15 pts)\n",
    "    - Define a dictionary with 3 item (Name is Dict A).\n",
    "    - Define another dictionary equal to Dict A, change the item value in new dictio- nary, but not hurt Dict A."
   ]
  },
  {
   "cell_type": "code",
   "execution_count": null,
   "metadata": {},
   "outputs": [],
   "source": []
  },
  {
   "cell_type": "markdown",
   "metadata": {},
   "source": [
    "### 5. Loop Condition Practice(30 pts)\n",
    "   Consider a sequenced list (or inversed sequence list, you need to consider an inversed sequence situation) and an inserted number. Define a function with two arguments, one is the sequenced list, another one is the inserted number. Please insert the number in the list with right place and output the new list. (Hint: you need to consider the special situation that the inserted number is smaller or greater than all numbers) \n",
    "Example:\n",
    "    \n",
    "    Input:\n",
    "        List = [1, 2 , 4 , 9 , 17 , 25 , 63 ]\n",
    "        InsertNum = 13\n",
    "    Output:\n",
    "        NewList = [1, 2 , 4 , 9 , 13 , 17 , 25 , 63 ]"
   ]
  },
  {
   "cell_type": "code",
   "execution_count": null,
   "metadata": {},
   "outputs": [],
   "source": []
  }
 ],
 "metadata": {
  "kernelspec": {
   "display_name": "Python 3",
   "language": "python",
   "name": "python3"
  },
  "language_info": {
   "codemirror_mode": {
    "name": "ipython",
    "version": 3
   },
   "file_extension": ".py",
   "mimetype": "text/x-python",
   "name": "python",
   "nbconvert_exporter": "python",
   "pygments_lexer": "ipython3",
   "version": "3.7.3"
  }
 },
 "nbformat": 4,
 "nbformat_minor": 2
}
