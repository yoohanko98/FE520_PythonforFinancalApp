{
 "cells": [
  {
   "cell_type": "markdown",
   "metadata": {},
   "source": [
    "# FE-520 Assignment 2\n",
    "#### Stevens Institute of Technology\n",
    "### Author: Yoohan Ko\n",
    "### \"I pledge my honor I have abided by the Stevens Honor System\""
   ]
  },
  {
   "cell_type": "markdown",
   "metadata": {},
   "source": [
    "### 1. Loop Condition Practice (10pts)\n",
    "    - A ball falls freely from a certain height. After each landing, it bounces back to 1/4 of its original height, then it falls again. Define a function with two arguments, one is the original height, another one is the number of landing (Set this is a default value with 5). \n",
    "    - Print how many total distance the ball traveled. Return the meters it bounces after the number of specific landing."
   ]
  },
  {
   "cell_type": "code",
   "execution_count": 17,
   "metadata": {},
   "outputs": [
    {
     "name": "stdout",
     "output_type": "stream",
     "text": [
      "The total distance travelled is: 16.650390625 meters\n"
     ]
    }
   ],
   "source": [
    "# define a function to calculate ball drop total distance\n",
    "\n",
    "def balldrop(height, bounces = 5):\n",
    "    total_dist = 0\n",
    "    \n",
    "    for x in range(bounces):\n",
    "        total_dist += height # measuring distance on the way down\n",
    "        height = height / 4 # 1/4 of the previous height\n",
    "        total_dist += height # measuring distance on the way up\n",
    "        \n",
    "    return total_dist\n",
    "        \n",
    "print(\"The total distance travelled is:\", balldrop(10), \"meters\")"
   ]
  },
  {
   "cell_type": "markdown",
   "metadata": {},
   "source": [
    "### 2. String Practice (35pts)\n",
    "    - Define a function to clean text:\n",
    "    1. Convert the string to single words as list.\n",
    "    2. if a token starts with or ends with a punctuation, remove the punctuation, e.g. ”world!” to ”world”, ”’hello’”to ”hello”. However, if there is a punctuation in the middle of word, e.g. It’s, we don’t remove it. (Hint: you may need to use string.punctuation method by importing string)\n",
    "    3. Replace \\n to space\n",
    "    4. Convert all chars to low case.\n",
    "    5. creates a dictionary (Name: Token) containing the count of every unique token, e.g. ’it’s:5, ’hello’:1,...\n",
    "    6. print the most frequent word and its frequency by string formatting, e.g. ”The most frequent word is ”the”, its frequency is 3”."
   ]
  },
  {
   "cell_type": "code",
   "execution_count": 80,
   "metadata": {},
   "outputs": [
    {
     "name": "stdout",
     "output_type": "stream",
     "text": [
      "After changing to lowercase:\n",
      "\n",
      "\n",
      "this course is designed for those students have no experience or\n",
      "limited experience on python. this course will cover the basis\n",
      "syntax rules, modules, importing packages (numpy, pandas), data\n",
      "visualization, and intro for machine learning on python. you will\n",
      "need to implement what you learn from this course to do a finance\n",
      "related project. this course aims to get you familiar with python\n",
      "language, and can finish a simple project with python.\n",
      "\n",
      "After replacing line breaks with space:\n",
      "\n",
      " this course is designed for those students have no experience or limited experience on python. this course will cover the basis syntax rules, modules, importing packages (numpy, pandas), data visualization, and intro for machine learning on python. you will need to implement what you learn from this course to do a finance related project. this course aims to get you familiar with python language, and can finish a simple project with python. \n",
      "\n",
      "After splitting up the string into a single word list\n",
      "\n",
      "['this', 'course', 'is', 'designed', 'for', 'those', 'students', 'have', 'no', 'experience', 'or', 'limited', 'experience', 'on', 'python.', 'this', 'course', 'will', 'cover', 'the', 'basis', 'syntax', 'rules,', 'modules,', 'importing', 'packages', '(numpy,', 'pandas),', 'data', 'visualization,', 'and', 'intro', 'for', 'machine', 'learning', 'on', 'python.', 'you', 'will', 'need', 'to', 'implement', 'what', 'you', 'learn', 'from', 'this', 'course', 'to', 'do', 'a', 'finance', 'related', 'project.', 'this', 'course', 'aims', 'to', 'get', 'you', 'familiar', 'with', 'python', 'language,', 'and', 'can', 'finish', 'a', 'simple', 'project', 'with', 'python.']\n",
      "\n",
      "After removing punctuation:\n",
      "\n",
      "['this', 'course', 'is', 'designed', 'for', 'those', 'students', 'have', 'no', 'experience', 'or', 'limited', 'experience', 'on', 'python', 'this', 'course', 'will', 'cover', 'the', 'basis', 'syntax', 'rules', 'modules', 'importing', 'packages', 'numpy', 'pandas', 'data', 'visualization', 'and', 'intro', 'for', 'machine', 'learning', 'on', 'python', 'you', 'will', 'need', 'to', 'implement', 'what', 'you', 'learn', 'from', 'this', 'course', 'to', 'do', 'a', 'finance', 'related', 'project', 'this', 'course', 'aims', 'to', 'get', 'you', 'familiar', 'with', 'python', 'language', 'and', 'can', 'finish', 'a', 'simple', 'project', 'with', 'python']\n",
      "Frequencies\n",
      "[4, 4, 1, 1, 2, 1, 1, 1, 1, 2, 1, 1, 2, 2, 4, 4, 4, 2, 1, 1, 1, 1, 1, 1, 1, 1, 1, 1, 1, 1, 2, 1, 2, 1, 1, 2, 4, 3, 2, 1, 3, 1, 1, 3, 1, 1, 4, 4, 3, 1, 2, 1, 1, 2, 4, 4, 1, 3, 1, 3, 1, 2, 4, 1, 2, 1, 1, 2, 1, 2, 2, 4]\n",
      "\n",
      "Pairs\n",
      "<zip object at 0x10dfcd288>\n"
     ]
    }
   ],
   "source": [
    "import string\n",
    "\n",
    "def clean_text(input):\n",
    "    \n",
    "    # changing to lowercase\n",
    "    input1 = input.lower()\n",
    "    print(\"After changing to lowercase:\\n\\n\" + input1)\n",
    "    \n",
    "    # replacing \\n with space\n",
    "    input2 = input1.replace('\\n',' ')\n",
    "    print(\"After replacing line breaks with space:\\n\\n\" + input2 + \"\\n\")\n",
    "    \n",
    "    # string to single word list\n",
    "    input3 = input2.split()\n",
    "    print(\"After splitting up the string into a single word list\\n\")\n",
    "    print(input3)\n",
    "    \n",
    "    # removing punctuation\n",
    "    input4 = []\n",
    "    for item in input3:\n",
    "        temp = item.strip(string.punctuation)\n",
    "        input4.append(temp)\n",
    "    print(\"\\nAfter removing punctuation:\\n\")\n",
    "    print(input4)\n",
    "    \n",
    "    wordfreq = []\n",
    "    for w in input4:\n",
    "        wordfreq.append(input4.count(w))\n",
    "        \n",
    "    print(\"Frequencies\\n\" + str(wordfreq) + \"\\n\")\n",
    "    \n",
    "    wordfreq = [wordlist.count(p) for p in wordlist]\n",
    "    return dict(zip(wordlist,wordfreq))\n",
    "    \n",
    "    \n",
    "# test string:\n",
    "mystring = '''\n",
    "This course is designed for those students have no experience or\n",
    "limited experience on Python. This course will cover the basis\n",
    "syntax rules, modules, importing packages (Numpy, pandas), data\n",
    "visualization, and Intro for machine learning on Python. You will\n",
    "need to implement what you learn from this course to do a finance\n",
    "related project. This course aims to get you familiar with Python\n",
    "language, and can finish a simple project with Python.\n",
    "'''\n",
    "\n",
    "\n",
    "clean_text(mystring)"
   ]
  },
  {
   "cell_type": "markdown",
   "metadata": {},
   "source": [
    "### 3. Find Zero of Function (40pts)\n",
    "    - Definition: Here we define if we could find a x∗, let f(x∗) = 0, we say x∗ is the zero point of this function.\n",
    "    - In this question, we are going to use Euler method to find the zero point of function."
   ]
  },
  {
   "cell_type": "markdown",
   "metadata": {},
   "source": [
    "### 3.1 (20 pts)\n",
    "    Consider the function f\n",
    "        f(x) = 2x + 4\n",
    "    1. Define a lambda function with f(x) = 2x + 4\n",
    "    2. define a function to find the zero point of f(x). Be careful that in this function, your parameters with this function need to at least contain lambda function f(x), initial value of x0, constant δ, and ε.\n",
    "    Hint: The stop condition of this function should be |wn+1 − wn| < ε.\n",
    "    3. Test your function with x0 = −5 and x0 = 0"
   ]
  },
  {
   "cell_type": "code",
   "execution_count": null,
   "metadata": {},
   "outputs": [],
   "source": []
  },
  {
   "cell_type": "markdown",
   "metadata": {},
   "source": [
    "### 3.2 (20 pts)\n",
    "    Consider another function g:\n",
    "        g(x) = x · sin(x) − 1\n",
    "    1. Use the function you define in question 3.1, try to find the zero point of g(x), with x ∈ [−4; 4].\n",
    "    2. Plot this function g(x) in google, and see how many zero point you can find in x ∈ [−4; 4]. Think about why you cannot get all zero points with Euler method.\n",
    "    3. Modify your Euler method, and try other zero point in g(x), with x ∈ [−4; 4]."
   ]
  },
  {
   "cell_type": "code",
   "execution_count": null,
   "metadata": {},
   "outputs": [],
   "source": []
  }
 ],
 "metadata": {
  "kernelspec": {
   "display_name": "Python 3",
   "language": "python",
   "name": "python3"
  },
  "language_info": {
   "codemirror_mode": {
    "name": "ipython",
    "version": 3
   },
   "file_extension": ".py",
   "mimetype": "text/x-python",
   "name": "python",
   "nbconvert_exporter": "python",
   "pygments_lexer": "ipython3",
   "version": "3.7.3"
  }
 },
 "nbformat": 4,
 "nbformat_minor": 2
}
